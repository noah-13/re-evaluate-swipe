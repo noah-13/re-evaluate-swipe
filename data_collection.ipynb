{
  "cells": [
    {
      "cell_type": "markdown",
      "metadata": {
        "id": "Vsb9m7GvyHxh"
      },
      "source": [
        "#Data Collection"
      ]
    },
    {
      "cell_type": "code",
      "execution_count": 2,
      "metadata": {
        "colab": {
          "base_uri": "https://localhost:8080/"
        },
        "id": "vspRtlnvyHxj",
        "outputId": "4c672819-7d75-4ee2-b069-383ee7d3d9fd"
      },
      "outputs": [
        {
          "output_type": "stream",
          "name": "stdout",
          "text": [
            "Number of samples: 482\n"
          ]
        }
      ],
      "source": [
        "import json\n",
        "\n",
        "fn = \"data/swipe_generator_data.json\"\n",
        "with open(fn, \"r\") as f:\n",
        "    data = json.load(f)\n",
        "\n",
        "print(\"Number of samples: %d\" % (len(data)))"
      ]
    },
    {
      "cell_type": "code",
      "source": [
        "import csv\n",
        "\n",
        "data_list = data\n",
        "\n",
        "model_names = [\n",
        "    'r_content',\n",
        "    's_content',\n",
        "    'candidate_access',\n",
        "    'candidate_keep_it_simple',\n",
        "    'candidate_swipe_v5',\n",
        "    'candidate_swipe_v5_clean',\n",
        "    'candidate_gpt3',\n",
        "    'candidate_bartl_wikilarge',\n",
        "    'sari_swipe_v5',\n",
        "    'fkgl_swipe_v5',\n",
        "    'sari_swipe_v5_clean',\n",
        "    'fkgl_swipe_v5_clean',\n",
        "    'sari_reference',\n",
        "    'fkgl_reference',\n",
        "    'sari_access',\n",
        "    'fkgl_access',\n",
        "    'sari_keep_it_simple',\n",
        "    'fkgl_keep_it_simple',\n",
        "    'sari_gpt3',\n",
        "    'fkgl_gpt3',\n",
        "    'sari_bartl_wikilarge',\n",
        "    'fkgl_bartl_wikilarge']\n",
        "\n",
        "csv_filename = \"input.csv\"\n",
        "with open(\"data/\" + csv_filename, mode=\"w\", newline=\"\", encoding=\"utf-8\") as file:\n",
        "    writer = csv.writer(file)\n",
        "    writer.writerow(model_names)\n",
        "    for entry in data_list:\n",
        "        writer.writerow([entry[model] for model in model_names])\n",
        "\n",
        "print(f\"CSV has been generated: {csv_filename}\")\n"
      ],
      "metadata": {
        "colab": {
          "base_uri": "https://localhost:8080/"
        },
        "id": "fUzRg3OefX0x",
        "outputId": "c5bdb7a5-a3f7-4677-a00d-ba5ad3df0b51"
      },
      "execution_count": 3,
      "outputs": [
        {
          "output_type": "stream",
          "name": "stdout",
          "text": [
            "CSV has been generated: input.csv\n"
          ]
        }
      ]
    }
  ],
  "metadata": {
    "colab": {
      "provenance": []
    },
    "kernelspec": {
      "display_name": "base",
      "language": "python",
      "name": "python3"
    },
    "language_info": {
      "codemirror_mode": {
        "name": "ipython",
        "version": 3
      },
      "file_extension": ".py",
      "mimetype": "text/x-python",
      "name": "python",
      "nbconvert_exporter": "python",
      "pygments_lexer": "ipython3",
      "version": "3.9.7"
    }
  },
  "nbformat": 4,
  "nbformat_minor": 0
}